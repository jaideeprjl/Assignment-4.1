{
 "cells": [
  {
   "cell_type": "markdown",
   "metadata": {},
   "source": [
    "Assignment 4.1\n",
    "\n",
    "Write a function filter_long_words() that takes a list of words and an integer n and returns the list of words that are longer than n"
   ]
  },
  {
   "cell_type": "code",
   "execution_count": 34,
   "metadata": {},
   "outputs": [
    {
     "name": "stdout",
     "output_type": "stream",
     "text": [
      "The list of words matching the condition are : \n",
      "abcd\n",
      "yeded\n",
      "ghij\n"
     ]
    }
   ],
   "source": [
    "def filter_long_words(words, n):\n",
    "    return filter(lambda x: len(x) > n, words)\n",
    "\n",
    "\n",
    "# an example to check if condition for length of words are satisfied \n",
    "list1=list(filter_long_words(['z','abcd','yeded','def','ghij'],3))\n",
    "\n",
    "# an example to check if condition for length of words are not satisfied \n",
    "# list1=list(filter_long_words(['z','a','ac','def','hij'],3))\n",
    "\n",
    "if len(list1)>0 :\n",
    "    print(\"The list of words matching the condition are : \")\n",
    "    for i in list1:\n",
    "        print(i)\n",
    "else:\n",
    "    print(\"No elements matching the condition\")\n",
    "    \n",
    "    \n"
   ]
  },
  {
   "cell_type": "code",
   "execution_count": null,
   "metadata": {},
   "outputs": [],
   "source": []
  }
 ],
 "metadata": {
  "kernelspec": {
   "display_name": "Python 3",
   "language": "python",
   "name": "python3"
  },
  "language_info": {
   "codemirror_mode": {
    "name": "ipython",
    "version": 3
   },
   "file_extension": ".py",
   "mimetype": "text/x-python",
   "name": "python",
   "nbconvert_exporter": "python",
   "pygments_lexer": "ipython3",
   "version": "3.6.5"
  }
 },
 "nbformat": 4,
 "nbformat_minor": 2
}
